{
  "nbformat": 4,
  "nbformat_minor": 0,
  "metadata": {
    "colab": {
      "name": "Sentiement Analysis using DL",
      "provenance": [],
      "collapsed_sections": []
    },
    "kernelspec": {
      "name": "python3",
      "display_name": "Python 3"
    },
    "language_info": {
      "name": "python"
    },
    "accelerator": "GPU"
  },
  "cells": [
    {
      "cell_type": "code",
      "metadata": {
        "id": "0UrR2QfR8upa"
      },
      "source": [
        "#DATE: 17/06/2021"
      ],
      "execution_count": null,
      "outputs": []
    },
    {
      "cell_type": "markdown",
      "metadata": {
        "id": "WrohRyvUIx5v"
      },
      "source": [
        "##Review Based Sentiment Analysis Using GRU Deep Neural Network\n",
        "\n",
        "\n",
        "\n"
      ]
    },
    {
      "cell_type": "markdown",
      "metadata": {
        "id": "IaHaZV8JcFxP"
      },
      "source": [
        "mounting drive"
      ]
    },
    {
      "cell_type": "code",
      "metadata": {
        "colab": {
          "base_uri": "https://localhost:8080/"
        },
        "id": "vHw-cHBcHD-r",
        "outputId": "6ae3caa5-70f6-40cd-caa8-c0f84cc3d25e"
      },
      "source": [
        "from google.colab import drive\n",
        "drive.mount('/content/drive')"
      ],
      "execution_count": null,
      "outputs": [
        {
          "output_type": "stream",
          "text": [
            "Drive already mounted at /content/drive; to attempt to forcibly remount, call drive.mount(\"/content/drive\", force_remount=True).\n"
          ],
          "name": "stdout"
        }
      ]
    },
    {
      "cell_type": "markdown",
      "metadata": {
        "id": "wZqExq5B1JuV"
      },
      "source": [
        "#importing necessary libraries"
      ]
    },
    {
      "cell_type": "code",
      "metadata": {
        "colab": {
          "base_uri": "https://localhost:8080/"
        },
        "id": "6pXzsSexJe1G",
        "outputId": "40c56fe7-ae72-4119-9e62-c5d0fd7c7734"
      },
      "source": [
        "import numpy as np \n",
        "import pandas as pd \n",
        "import seaborn as sns \n",
        "import matplotlib.pyplot as plt\n",
        "from sklearn.metrics import roc_curve, auc\n",
        "from sklearn.metrics import classification_report, confusion_matrix\n",
        "import nltk\n",
        "from nltk.corpus import stopwords\n",
        "from nltk.stem import PorterStemmer \n",
        "from nltk.stem import WordNetLemmatizer\n",
        "from nltk.tokenize import word_tokenize\n",
        "from sklearn.model_selection import train_test_split\n",
        "from mlxtend.plotting import plot_confusion_matrix\n",
        "from collections import Counter\n",
        "from nltk.tokenize import RegexpTokenizer\n",
        "import re\n",
        "import string\n",
        "from tensorflow.keras.layers import LSTM, Activation, Dense, Dropout, Input, Embedding\n",
        "from tensorflow.keras.models import Model\n",
        "from tensorflow.keras.preprocessing.text import Tokenizer\n",
        "from tensorflow.keras.preprocessing import sequence\n",
        "from tensorflow.keras.utils import plot_model\n",
        "from keras.models import Sequential\n",
        "from tensorflow import keras\n",
        "\n",
        "import warnings\n",
        "warnings.filterwarnings(\"ignore\")\n",
        "nltk.download('stopwords')\n",
        "nltk.download('wordnet')\n",
        "nltk.download('punkt')\n",
        "nltk.download('punkt')"
      ],
      "execution_count": null,
      "outputs": [
        {
          "output_type": "stream",
          "text": [
            "[nltk_data] Downloading package stopwords to /root/nltk_data...\n",
            "[nltk_data]   Package stopwords is already up-to-date!\n",
            "[nltk_data] Downloading package wordnet to /root/nltk_data...\n",
            "[nltk_data]   Package wordnet is already up-to-date!\n",
            "[nltk_data] Downloading package punkt to /root/nltk_data...\n",
            "[nltk_data]   Package punkt is already up-to-date!\n",
            "[nltk_data] Downloading package punkt to /root/nltk_data...\n",
            "[nltk_data]   Package punkt is already up-to-date!\n"
          ],
          "name": "stdout"
        },
        {
          "output_type": "execute_result",
          "data": {
            "text/plain": [
              "True"
            ]
          },
          "metadata": {
            "tags": []
          },
          "execution_count": 140
        }
      ]
    },
    {
      "cell_type": "markdown",
      "metadata": {
        "id": "d2ou-U0Z1o0U"
      },
      "source": [
        "# reading dataset"
      ]
    },
    {
      "cell_type": "code",
      "metadata": {
        "colab": {
          "base_uri": "https://localhost:8080/",
          "height": 203
        },
        "id": "WBviIhyhxGN2",
        "outputId": "62b34738-a22f-41c8-90b1-c138f3eb7627"
      },
      "source": [
        "dataset=pd.read_csv('/content/drive/MyDrive/training.1600000.processed.noemoticon.csv', encoding = 'latin',names = ['sentiment','id','date','query','user','reviews'])\n",
        "dataset.sample(n = 5)"
      ],
      "execution_count": null,
      "outputs": [
        {
          "output_type": "execute_result",
          "data": {
            "text/html": [
              "<div>\n",
              "<style scoped>\n",
              "    .dataframe tbody tr th:only-of-type {\n",
              "        vertical-align: middle;\n",
              "    }\n",
              "\n",
              "    .dataframe tbody tr th {\n",
              "        vertical-align: top;\n",
              "    }\n",
              "\n",
              "    .dataframe thead th {\n",
              "        text-align: right;\n",
              "    }\n",
              "</style>\n",
              "<table border=\"1\" class=\"dataframe\">\n",
              "  <thead>\n",
              "    <tr style=\"text-align: right;\">\n",
              "      <th></th>\n",
              "      <th>sentiment</th>\n",
              "      <th>id</th>\n",
              "      <th>date</th>\n",
              "      <th>query</th>\n",
              "      <th>user</th>\n",
              "      <th>reviews</th>\n",
              "    </tr>\n",
              "  </thead>\n",
              "  <tbody>\n",
              "    <tr>\n",
              "      <th>865355</th>\n",
              "      <td>4</td>\n",
              "      <td>1677444498</td>\n",
              "      <td>Sat May 02 02:06:30 PDT 2009</td>\n",
              "      <td>NO_QUERY</td>\n",
              "      <td>SarahSaner</td>\n",
              "      <td>@ladybug8320 It definately is  Perfectly put. xx</td>\n",
              "    </tr>\n",
              "    <tr>\n",
              "      <th>1557264</th>\n",
              "      <td>4</td>\n",
              "      <td>2185557285</td>\n",
              "      <td>Mon Jun 15 17:33:36 PDT 2009</td>\n",
              "      <td>NO_QUERY</td>\n",
              "      <td>cmlipe</td>\n",
              "      <td>@Chelzbellz Can't wait! I could use a nice esc...</td>\n",
              "    </tr>\n",
              "    <tr>\n",
              "      <th>6202</th>\n",
              "      <td>0</td>\n",
              "      <td>1469334883</td>\n",
              "      <td>Tue Apr 07 06:03:08 PDT 2009</td>\n",
              "      <td>NO_QUERY</td>\n",
              "      <td>stephchangry</td>\n",
              "      <td>i hate being the first one in and the last one...</td>\n",
              "    </tr>\n",
              "    <tr>\n",
              "      <th>1454398</th>\n",
              "      <td>4</td>\n",
              "      <td>2063322149</td>\n",
              "      <td>Sun Jun 07 02:11:45 PDT 2009</td>\n",
              "      <td>NO_QUERY</td>\n",
              "      <td>Lindscrafter</td>\n",
              "      <td>Should be sleeping....but im still awake.</td>\n",
              "    </tr>\n",
              "    <tr>\n",
              "      <th>38892</th>\n",
              "      <td>0</td>\n",
              "      <td>1573390450</td>\n",
              "      <td>Tue Apr 21 00:57:14 PDT 2009</td>\n",
              "      <td>NO_QUERY</td>\n",
              "      <td>WHETO666</td>\n",
              "      <td>life is an ilusion , love is  a dream  but i d...</td>\n",
              "    </tr>\n",
              "  </tbody>\n",
              "</table>\n",
              "</div>"
            ],
            "text/plain": [
              "         sentiment  ...                                            reviews\n",
              "865355           4  ...   @ladybug8320 It definately is  Perfectly put. xx\n",
              "1557264          4  ...  @Chelzbellz Can't wait! I could use a nice esc...\n",
              "6202             0  ...  i hate being the first one in and the last one...\n",
              "1454398          4  ...         Should be sleeping....but im still awake. \n",
              "38892            0  ...  life is an ilusion , love is  a dream  but i d...\n",
              "\n",
              "[5 rows x 6 columns]"
            ]
          },
          "metadata": {
            "tags": []
          },
          "execution_count": 141
        }
      ]
    },
    {
      "cell_type": "markdown",
      "metadata": {
        "id": "Mo7AFperxpLk"
      },
      "source": [
        "# dataset details"
      ]
    },
    {
      "cell_type": "code",
      "metadata": {
        "colab": {
          "base_uri": "https://localhost:8080/"
        },
        "id": "jw90sEMCxrb2",
        "outputId": "00600c1c-abae-47b6-b713-d0a36c657982"
      },
      "source": [
        "print('lenght of data is', len(dataset))\n",
        "print(\"dataset shape is \", dataset.shape)"
      ],
      "execution_count": null,
      "outputs": [
        {
          "output_type": "stream",
          "text": [
            "lenght of data is 1600000\n",
            "dataset shape is  (1600000, 6)\n"
          ],
          "name": "stdout"
        }
      ]
    },
    {
      "cell_type": "code",
      "metadata": {
        "colab": {
          "base_uri": "https://localhost:8080/"
        },
        "id": "QP8gnwCgyU0u",
        "outputId": "30eb6421-086a-4cf4-f8cd-baec31326967"
      },
      "source": [
        "print(\"dataset information \", dataset.info()) "
      ],
      "execution_count": null,
      "outputs": [
        {
          "output_type": "stream",
          "text": [
            "<class 'pandas.core.frame.DataFrame'>\n",
            "RangeIndex: 1600000 entries, 0 to 1599999\n",
            "Data columns (total 6 columns):\n",
            " #   Column     Non-Null Count    Dtype \n",
            "---  ------     --------------    ----- \n",
            " 0   sentiment  1600000 non-null  int64 \n",
            " 1   id         1600000 non-null  int64 \n",
            " 2   date       1600000 non-null  object\n",
            " 3   query      1600000 non-null  object\n",
            " 4   user       1600000 non-null  object\n",
            " 5   reviews    1600000 non-null  object\n",
            "dtypes: int64(2), object(4)\n",
            "memory usage: 73.2+ MB\n",
            "dataset information  None\n"
          ],
          "name": "stdout"
        }
      ]
    },
    {
      "cell_type": "markdown",
      "metadata": {
        "id": "m5yR70n--C6Q"
      },
      "source": [
        "# selecting only required columns"
      ]
    },
    {
      "cell_type": "code",
      "metadata": {
        "id": "PQmQqZ52FUt_"
      },
      "source": [
        "dataset=dataset[['reviews','sentiment']]"
      ],
      "execution_count": null,
      "outputs": []
    },
    {
      "cell_type": "code",
      "metadata": {
        "id": "juC71lPR0RpB"
      },
      "source": [
        "dataset['sentiment'][dataset['sentiment']==4]=1  # changing sntiment value 4 to 1"
      ],
      "execution_count": null,
      "outputs": []
    },
    {
      "cell_type": "code",
      "metadata": {
        "colab": {
          "base_uri": "https://localhost:8080/",
          "height": 203
        },
        "id": "m668oR-yP5Dm",
        "outputId": "509d6c79-7ce3-4874-c60c-b8be47372384"
      },
      "source": [
        "dataset.sample(n = 5)"
      ],
      "execution_count": null,
      "outputs": [
        {
          "output_type": "execute_result",
          "data": {
            "text/html": [
              "<div>\n",
              "<style scoped>\n",
              "    .dataframe tbody tr th:only-of-type {\n",
              "        vertical-align: middle;\n",
              "    }\n",
              "\n",
              "    .dataframe tbody tr th {\n",
              "        vertical-align: top;\n",
              "    }\n",
              "\n",
              "    .dataframe thead th {\n",
              "        text-align: right;\n",
              "    }\n",
              "</style>\n",
              "<table border=\"1\" class=\"dataframe\">\n",
              "  <thead>\n",
              "    <tr style=\"text-align: right;\">\n",
              "      <th></th>\n",
              "      <th>reviews</th>\n",
              "      <th>sentiment</th>\n",
              "    </tr>\n",
              "  </thead>\n",
              "  <tbody>\n",
              "    <tr>\n",
              "      <th>772497</th>\n",
              "      <td>@mhcranberry i read that article on votto, not...</td>\n",
              "      <td>0</td>\n",
              "    </tr>\n",
              "    <tr>\n",
              "      <th>1413197</th>\n",
              "      <td>@artemisrex ha. Good to know.</td>\n",
              "      <td>1</td>\n",
              "    </tr>\n",
              "    <tr>\n",
              "      <th>89997</th>\n",
              "      <td>4 hours of sleep all wkend?  in Providence, RI</td>\n",
              "      <td>0</td>\n",
              "    </tr>\n",
              "    <tr>\n",
              "      <th>212400</th>\n",
              "      <td>@benshephard Diversity may have it based on UK...</td>\n",
              "      <td>0</td>\n",
              "    </tr>\n",
              "    <tr>\n",
              "      <th>970480</th>\n",
              "      <td>oof too many oreos ohmigosh. i'll save those o...</td>\n",
              "      <td>1</td>\n",
              "    </tr>\n",
              "  </tbody>\n",
              "</table>\n",
              "</div>"
            ],
            "text/plain": [
              "                                                   reviews  sentiment\n",
              "772497   @mhcranberry i read that article on votto, not...          0\n",
              "1413197                     @artemisrex ha. Good to know.           1\n",
              "89997       4 hours of sleep all wkend?  in Providence, RI          0\n",
              "212400   @benshephard Diversity may have it based on UK...          0\n",
              "970480   oof too many oreos ohmigosh. i'll save those o...          1"
            ]
          },
          "metadata": {
            "tags": []
          },
          "execution_count": 147
        }
      ]
    },
    {
      "cell_type": "markdown",
      "metadata": {
        "id": "ghF7WD3o-q5V"
      },
      "source": [
        "#preprocessing of reviews"
      ]
    },
    {
      "cell_type": "code",
      "metadata": {
        "id": "P7ZXP8LV_K60"
      },
      "source": [
        "# remove urls, handles, and the hashtag\n",
        "def remove_urls(text):\n",
        "    new_text = ' '.join(re.sub(\"(@[A-Za-z0-9]+)|([^0-9A-Za-z \\t])|(\\w+:\\/\\/\\S+)\",\" \",text).split())\n",
        "    return new_text\n",
        "# make all text lowercase\n",
        "def text_lowercase(text):\n",
        "    return text.lower()\n",
        "# remove numbers\n",
        "def remove_numbers(text):\n",
        "    result = re.sub(r'\\d+', '', text)\n",
        "    return result\n",
        "# remove punctuation\n",
        "def remove_punctuation(text):\n",
        "    translator = str.maketrans('', '', string.punctuation)\n",
        "    return text.translate(translator)\n",
        "# tokenize\n",
        "def tokenize(text):\n",
        "    text = word_tokenize(text)\n",
        "    return text\n",
        "# remove stopwords\n",
        "stop_words = set(stopwords.words('english'))\n",
        "def remove_stopwords(text):\n",
        "    text = [i for i in text if not i in stop_words]\n",
        "    return text\n",
        "\n",
        "def preprocessing(text):\n",
        "    text = text_lowercase(text)\n",
        "    text = remove_urls(text)\n",
        "    text = remove_numbers(text)\n",
        "    text = remove_punctuation(text)\n",
        "    text = tokenize(text)\n",
        "    text = remove_stopwords(text)\n",
        "    text = ' '.join(text)\n",
        "    return text"
      ],
      "execution_count": null,
      "outputs": []
    },
    {
      "cell_type": "code",
      "metadata": {
        "id": "iHp9oVTH_b1X"
      },
      "source": [
        "#applying preprocessing function\n",
        "dataset['reviews']=dataset['reviews'].apply(lambda text: preprocessing(text))"
      ],
      "execution_count": null,
      "outputs": []
    },
    {
      "cell_type": "code",
      "metadata": {
        "colab": {
          "base_uri": "https://localhost:8080/",
          "height": 203
        },
        "id": "sKSxj3pXPbdn",
        "outputId": "191c397a-4178-4965-ce00-33690f847b36"
      },
      "source": [
        "dataset.head(5)"
      ],
      "execution_count": null,
      "outputs": [
        {
          "output_type": "execute_result",
          "data": {
            "text/html": [
              "<div>\n",
              "<style scoped>\n",
              "    .dataframe tbody tr th:only-of-type {\n",
              "        vertical-align: middle;\n",
              "    }\n",
              "\n",
              "    .dataframe tbody tr th {\n",
              "        vertical-align: top;\n",
              "    }\n",
              "\n",
              "    .dataframe thead th {\n",
              "        text-align: right;\n",
              "    }\n",
              "</style>\n",
              "<table border=\"1\" class=\"dataframe\">\n",
              "  <thead>\n",
              "    <tr style=\"text-align: right;\">\n",
              "      <th></th>\n",
              "      <th>reviews</th>\n",
              "      <th>sentiment</th>\n",
              "    </tr>\n",
              "  </thead>\n",
              "  <tbody>\n",
              "    <tr>\n",
              "      <th>0</th>\n",
              "      <td>awww bummer shoulda got david carr third day</td>\n",
              "      <td>0</td>\n",
              "    </tr>\n",
              "    <tr>\n",
              "      <th>1</th>\n",
              "      <td>upset update facebook texting might cry result...</td>\n",
              "      <td>0</td>\n",
              "    </tr>\n",
              "    <tr>\n",
              "      <th>2</th>\n",
              "      <td>dived many times ball managed save rest go bounds</td>\n",
              "      <td>0</td>\n",
              "    </tr>\n",
              "    <tr>\n",
              "      <th>3</th>\n",
              "      <td>whole body feels itchy like fire</td>\n",
              "      <td>0</td>\n",
              "    </tr>\n",
              "    <tr>\n",
              "      <th>4</th>\n",
              "      <td>behaving mad see</td>\n",
              "      <td>0</td>\n",
              "    </tr>\n",
              "  </tbody>\n",
              "</table>\n",
              "</div>"
            ],
            "text/plain": [
              "                                             reviews  sentiment\n",
              "0       awww bummer shoulda got david carr third day          0\n",
              "1  upset update facebook texting might cry result...          0\n",
              "2  dived many times ball managed save rest go bounds          0\n",
              "3                   whole body feels itchy like fire          0\n",
              "4                                   behaving mad see          0"
            ]
          },
          "metadata": {
            "tags": []
          },
          "execution_count": 150
        }
      ]
    },
    {
      "cell_type": "markdown",
      "metadata": {
        "id": "sEkJ_AfA-lFk"
      },
      "source": [
        "## removal of frequently occurred words"
      ]
    },
    {
      "cell_type": "code",
      "metadata": {
        "colab": {
          "base_uri": "https://localhost:8080/"
        },
        "id": "FoB0Jg5_mKtv",
        "outputId": "c6a336c2-d81c-4b8f-f575-11159ea3e078"
      },
      "source": [
        "cnt = Counter()\n",
        "for text in dataset['reviews'].values:\n",
        "    for word in text.split():\n",
        "        cnt[word] += 1\n",
        "        \n",
        "cnt.most_common(10)"
      ],
      "execution_count": null,
      "outputs": [
        {
          "output_type": "execute_result",
          "data": {
            "text/plain": [
              "[('good', 91340),\n",
              " ('day', 89731),\n",
              " ('get', 82160),\n",
              " ('like', 78579),\n",
              " ('go', 73986),\n",
              " ('quot', 72085),\n",
              " ('got', 70741),\n",
              " ('today', 68221),\n",
              " ('work', 64950),\n",
              " ('love', 64852)]"
            ]
          },
          "metadata": {
            "tags": []
          },
          "execution_count": 151
        }
      ]
    },
    {
      "cell_type": "code",
      "metadata": {
        "colab": {
          "base_uri": "https://localhost:8080/",
          "height": 203
        },
        "id": "RuLJ-EqHmOrI",
        "outputId": "b0193d02-be73-49f8-ecf3-0b48e8f80c6f"
      },
      "source": [
        "FREQWORDS = set([w for (w, wc) in cnt.most_common(10)])\n",
        "def remove_freqwords(text):\n",
        "    \"\"\"custom function to remove the frequent words\"\"\"\n",
        "    return \" \".join([word for word in str(text).split() if word not in FREQWORDS])\n",
        "\n",
        "dataset[\"reviews\"] = dataset[\"reviews\"].apply(lambda text: remove_freqwords(text))\n",
        "dataset.head()"
      ],
      "execution_count": null,
      "outputs": [
        {
          "output_type": "execute_result",
          "data": {
            "text/html": [
              "<div>\n",
              "<style scoped>\n",
              "    .dataframe tbody tr th:only-of-type {\n",
              "        vertical-align: middle;\n",
              "    }\n",
              "\n",
              "    .dataframe tbody tr th {\n",
              "        vertical-align: top;\n",
              "    }\n",
              "\n",
              "    .dataframe thead th {\n",
              "        text-align: right;\n",
              "    }\n",
              "</style>\n",
              "<table border=\"1\" class=\"dataframe\">\n",
              "  <thead>\n",
              "    <tr style=\"text-align: right;\">\n",
              "      <th></th>\n",
              "      <th>reviews</th>\n",
              "      <th>sentiment</th>\n",
              "    </tr>\n",
              "  </thead>\n",
              "  <tbody>\n",
              "    <tr>\n",
              "      <th>0</th>\n",
              "      <td>awww bummer shoulda david carr third</td>\n",
              "      <td>0</td>\n",
              "    </tr>\n",
              "    <tr>\n",
              "      <th>1</th>\n",
              "      <td>upset update facebook texting might cry result...</td>\n",
              "      <td>0</td>\n",
              "    </tr>\n",
              "    <tr>\n",
              "      <th>2</th>\n",
              "      <td>dived many times ball managed save rest bounds</td>\n",
              "      <td>0</td>\n",
              "    </tr>\n",
              "    <tr>\n",
              "      <th>3</th>\n",
              "      <td>whole body feels itchy fire</td>\n",
              "      <td>0</td>\n",
              "    </tr>\n",
              "    <tr>\n",
              "      <th>4</th>\n",
              "      <td>behaving mad see</td>\n",
              "      <td>0</td>\n",
              "    </tr>\n",
              "  </tbody>\n",
              "</table>\n",
              "</div>"
            ],
            "text/plain": [
              "                                             reviews  sentiment\n",
              "0               awww bummer shoulda david carr third          0\n",
              "1  upset update facebook texting might cry result...          0\n",
              "2     dived many times ball managed save rest bounds          0\n",
              "3                        whole body feels itchy fire          0\n",
              "4                                   behaving mad see          0"
            ]
          },
          "metadata": {
            "tags": []
          },
          "execution_count": 152
        }
      ]
    },
    {
      "cell_type": "code",
      "metadata": {
        "colab": {
          "base_uri": "https://localhost:8080/",
          "height": 203
        },
        "id": "h_M4PLTYmTNU",
        "outputId": "18462cf3-a08f-4221-adad-f096d7a23e62"
      },
      "source": [
        "n_rare_words = 10\n",
        "RAREWORDS = set([w for (w, wc) in cnt.most_common()[:-n_rare_words-1:-1]])\n",
        "def remove_rarewords(text):\n",
        "    \"\"\"custom function to remove the rare words\"\"\"\n",
        "    return \" \".join([word for word in str(text).split() if word not in RAREWORDS])\n",
        "\n",
        "dataset[\"reviews\"] = dataset[\"reviews\"].apply(lambda text: remove_rarewords(text))\n",
        "dataset.head()"
      ],
      "execution_count": null,
      "outputs": [
        {
          "output_type": "execute_result",
          "data": {
            "text/html": [
              "<div>\n",
              "<style scoped>\n",
              "    .dataframe tbody tr th:only-of-type {\n",
              "        vertical-align: middle;\n",
              "    }\n",
              "\n",
              "    .dataframe tbody tr th {\n",
              "        vertical-align: top;\n",
              "    }\n",
              "\n",
              "    .dataframe thead th {\n",
              "        text-align: right;\n",
              "    }\n",
              "</style>\n",
              "<table border=\"1\" class=\"dataframe\">\n",
              "  <thead>\n",
              "    <tr style=\"text-align: right;\">\n",
              "      <th></th>\n",
              "      <th>reviews</th>\n",
              "      <th>sentiment</th>\n",
              "    </tr>\n",
              "  </thead>\n",
              "  <tbody>\n",
              "    <tr>\n",
              "      <th>0</th>\n",
              "      <td>awww bummer shoulda david carr third</td>\n",
              "      <td>0</td>\n",
              "    </tr>\n",
              "    <tr>\n",
              "      <th>1</th>\n",
              "      <td>upset update facebook texting might cry result...</td>\n",
              "      <td>0</td>\n",
              "    </tr>\n",
              "    <tr>\n",
              "      <th>2</th>\n",
              "      <td>dived many times ball managed save rest bounds</td>\n",
              "      <td>0</td>\n",
              "    </tr>\n",
              "    <tr>\n",
              "      <th>3</th>\n",
              "      <td>whole body feels itchy fire</td>\n",
              "      <td>0</td>\n",
              "    </tr>\n",
              "    <tr>\n",
              "      <th>4</th>\n",
              "      <td>behaving mad see</td>\n",
              "      <td>0</td>\n",
              "    </tr>\n",
              "  </tbody>\n",
              "</table>\n",
              "</div>"
            ],
            "text/plain": [
              "                                             reviews  sentiment\n",
              "0               awww bummer shoulda david carr third          0\n",
              "1  upset update facebook texting might cry result...          0\n",
              "2     dived many times ball managed save rest bounds          0\n",
              "3                        whole body feels itchy fire          0\n",
              "4                                   behaving mad see          0"
            ]
          },
          "metadata": {
            "tags": []
          },
          "execution_count": 153
        }
      ]
    },
    {
      "cell_type": "markdown",
      "metadata": {
        "id": "YKZlxh8iBMA-"
      },
      "source": [
        "## Applying stemming"
      ]
    },
    {
      "cell_type": "code",
      "metadata": {
        "id": "diIZzOuEGTEZ"
      },
      "source": [
        "stemmer = PorterStemmer()\n",
        "def stem_words(text):\n",
        "    return \" \".join([stemmer.stem(word) for word in text.split()])\n",
        "\n",
        "dataset[\"reviews\"] = dataset[\"reviews\"].apply(lambda text: stem_words(text))"
      ],
      "execution_count": null,
      "outputs": []
    },
    {
      "cell_type": "code",
      "metadata": {
        "colab": {
          "base_uri": "https://localhost:8080/"
        },
        "id": "1S7fKYJqGvL6",
        "outputId": "6e6e91ca-5437-4f6a-f103-6973ec451da1"
      },
      "source": [
        "dataset['reviews'].head()"
      ],
      "execution_count": null,
      "outputs": [
        {
          "output_type": "execute_result",
          "data": {
            "text/plain": [
              "0                 awww bummer shoulda david carr third\n",
              "1    upset updat facebook text might cri result sch...\n",
              "2            dive mani time ball manag save rest bound\n",
              "3                           whole bodi feel itchi fire\n",
              "4                                        behav mad see\n",
              "Name: reviews, dtype: object"
            ]
          },
          "metadata": {
            "tags": []
          },
          "execution_count": 155
        }
      ]
    },
    {
      "cell_type": "markdown",
      "metadata": {
        "id": "kL8qNMde5eZE"
      },
      "source": [
        "## applying lemmatization"
      ]
    },
    {
      "cell_type": "code",
      "metadata": {
        "colab": {
          "base_uri": "https://localhost:8080/"
        },
        "id": "sp4mxxhFHBL_",
        "outputId": "e33c086f-7f65-42e4-dd85-906c6cd08a0a"
      },
      "source": [
        "nltk.download('wordnet')\n",
        "lm = nltk.WordNetLemmatizer()\n",
        "def lemmatizer_on_text(text):\n",
        "    reviews = [lm.lemmatize(word) for word in dataset]\n",
        "    return text\n",
        "\n",
        "dataset['reviews'] = dataset['reviews'].apply(lambda x: lemmatizer_on_text(x))"
      ],
      "execution_count": null,
      "outputs": [
        {
          "output_type": "stream",
          "text": [
            "[nltk_data] Downloading package wordnet to /root/nltk_data...\n",
            "[nltk_data]   Package wordnet is already up-to-date!\n"
          ],
          "name": "stdout"
        }
      ]
    },
    {
      "cell_type": "code",
      "metadata": {
        "colab": {
          "base_uri": "https://localhost:8080/"
        },
        "id": "bW1uQTGsHWvh",
        "outputId": "980941af-da53-4e34-be85-567226450820"
      },
      "source": [
        "dataset['reviews'].head()"
      ],
      "execution_count": null,
      "outputs": [
        {
          "output_type": "execute_result",
          "data": {
            "text/plain": [
              "0                 awww bummer shoulda david carr third\n",
              "1    upset updat facebook text might cri result sch...\n",
              "2            dive mani time ball manag save rest bound\n",
              "3                           whole bodi feel itchi fire\n",
              "4                                        behav mad see\n",
              "Name: reviews, dtype: object"
            ]
          },
          "metadata": {
            "tags": []
          },
          "execution_count": 157
        }
      ]
    },
    {
      "cell_type": "markdown",
      "metadata": {
        "id": "ZcZnwT3p_Yab"
      },
      "source": [
        "\n",
        "#data after preprocessing"
      ]
    },
    {
      "cell_type": "code",
      "metadata": {
        "colab": {
          "base_uri": "https://localhost:8080/",
          "height": 203
        },
        "id": "3rm3PG2oDwTu",
        "outputId": "a2cc46a7-c9b8-4c40-b7c0-074a744dfcd5"
      },
      "source": [
        "dataset.sample(n = 5)"
      ],
      "execution_count": null,
      "outputs": [
        {
          "output_type": "execute_result",
          "data": {
            "text/html": [
              "<div>\n",
              "<style scoped>\n",
              "    .dataframe tbody tr th:only-of-type {\n",
              "        vertical-align: middle;\n",
              "    }\n",
              "\n",
              "    .dataframe tbody tr th {\n",
              "        vertical-align: top;\n",
              "    }\n",
              "\n",
              "    .dataframe thead th {\n",
              "        text-align: right;\n",
              "    }\n",
              "</style>\n",
              "<table border=\"1\" class=\"dataframe\">\n",
              "  <thead>\n",
              "    <tr style=\"text-align: right;\">\n",
              "      <th></th>\n",
              "      <th>reviews</th>\n",
              "      <th>sentiment</th>\n",
              "    </tr>\n",
              "  </thead>\n",
              "  <tbody>\n",
              "    <tr>\n",
              "      <th>474739</th>\n",
              "      <td>say goodby cowork week least coupl come back fall</td>\n",
              "      <td>0</td>\n",
              "    </tr>\n",
              "    <tr>\n",
              "      <th>798396</th>\n",
              "      <td>want maldiv</td>\n",
              "      <td>0</td>\n",
              "    </tr>\n",
              "    <tr>\n",
              "      <th>932662</th>\n",
              "      <td>hi big fan r u greet bangladesh</td>\n",
              "      <td>1</td>\n",
              "    </tr>\n",
              "    <tr>\n",
              "      <th>1527332</th>\n",
              "      <td>salli amp laura make ice cream later meantim c...</td>\n",
              "      <td>1</td>\n",
              "    </tr>\n",
              "    <tr>\n",
              "      <th>731169</th>\n",
              "      <td>damnz feel chicken wing</td>\n",
              "      <td>0</td>\n",
              "    </tr>\n",
              "  </tbody>\n",
              "</table>\n",
              "</div>"
            ],
            "text/plain": [
              "                                                   reviews  sentiment\n",
              "474739   say goodby cowork week least coupl come back fall          0\n",
              "798396                                         want maldiv          0\n",
              "932662                     hi big fan r u greet bangladesh          1\n",
              "1527332  salli amp laura make ice cream later meantim c...          1\n",
              "731169                             damnz feel chicken wing          0"
            ]
          },
          "metadata": {
            "tags": []
          },
          "execution_count": 158
        }
      ]
    },
    {
      "cell_type": "markdown",
      "metadata": {
        "id": "jpCLIPVJcYG0"
      },
      "source": [
        "bar graph plot"
      ]
    },
    {
      "cell_type": "code",
      "metadata": {
        "colab": {
          "base_uri": "https://localhost:8080/",
          "height": 279
        },
        "id": "ZF9MP6FgN003",
        "outputId": "8f40a5cf-d953-4ade-a953-16686be3b39e"
      },
      "source": [
        "dataset['sentiment'].value_counts().sort_index().plot.bar()"
      ],
      "execution_count": null,
      "outputs": [
        {
          "output_type": "execute_result",
          "data": {
            "text/plain": [
              "<matplotlib.axes._subplots.AxesSubplot at 0x7f4f3c15c2d0>"
            ]
          },
          "metadata": {
            "tags": []
          },
          "execution_count": 159
        },
        {
          "output_type": "display_data",
          "data": {
            "image/png": "[encoded data removed]",
            "text/plain": [
              "<Figure size 432x288 with 1 Axes>"
            ]
          },
          "metadata": {
            "tags": [],
            "needs_background": "light"
          }
        }
      ]
    },
    {
      "cell_type": "markdown",
      "metadata": {
        "id": "aDUr0Q6ecfzb"
      },
      "source": [
        "dividing dataset"
      ]
    },
    {
      "cell_type": "code",
      "metadata": {
        "id": "JDuq3LUDF1hm"
      },
      "source": [
        "X=dataset.reviews[700000:1600000]\n",
        "Y=dataset.sentiment[700000:1600000]"
      ],
      "execution_count": null,
      "outputs": []
    },
    {
      "cell_type": "code",
      "metadata": {
        "id": "uuM6y3R48GvE",
        "colab": {
          "base_uri": "https://localhost:8080/"
        },
        "outputId": "e0c31939-e7f5-4c62-df72-57c79c9e0495"
      },
      "source": [
        "max_len = 500 # max length of the reviews\n",
        "tok = Tokenizer(num_words=2000)\n",
        "tok.fit_on_texts(X)\n",
        "sequences = tok.texts_to_sequences(X)\n",
        "sequences_matrix = sequence.pad_sequences(sequences,maxlen=max_len)\n",
        "print(sequences_matrix )"
      ],
      "execution_count": null,
      "outputs": [
        {
          "output_type": "stream",
          "text": [
            "[[   0    0    0 ... 1227 1593 1884]\n",
            " [   0    0    0 ...  455 1269  609]\n",
            " [   0    0    0 ...  211   48   87]\n",
            " ...\n",
            " [   0    0    0 ...  110  234 1180]\n",
            " [   0    0    0 ...  121  655    3]\n",
            " [   0    0    0 ...    0    0   25]]\n"
          ],
          "name": "stdout"
        }
      ]
    },
    {
      "cell_type": "code",
      "metadata": {
        "colab": {
          "base_uri": "https://localhost:8080/"
        },
        "id": "g5lF63rPQz1b",
        "outputId": "b83af9f6-90c2-4b20-d80e-dacccd92cfd2"
      },
      "source": [
        "sequences_matrix.shape"
      ],
      "execution_count": null,
      "outputs": [
        {
          "output_type": "execute_result",
          "data": {
            "text/plain": [
              "(900000, 500)"
            ]
          },
          "metadata": {
            "tags": []
          },
          "execution_count": 173
        }
      ]
    },
    {
      "cell_type": "markdown",
      "metadata": {
        "id": "jDzEcr9BdUWW"
      },
      "source": [
        "spliting of the dataset into 80:20 frame"
      ]
    },
    {
      "cell_type": "code",
      "metadata": {
        "id": "2F6xTOhQFGo8"
      },
      "source": [
        "X_train, X_test, Y_train, Y_test = train_test_split(sequences_matrix, Y, test_size=0.2, random_state=500)"
      ],
      "execution_count": null,
      "outputs": []
    },
    {
      "cell_type": "code",
      "metadata": {
        "id": "hx33VI8IAY24",
        "colab": {
          "base_uri": "https://localhost:8080/"
        },
        "outputId": "387f5c5a-598d-4cbf-eb5b-72a776574e00"
      },
      "source": [
        "X_train.shape, Y_train.shape"
      ],
      "execution_count": null,
      "outputs": [
        {
          "output_type": "execute_result",
          "data": {
            "text/plain": [
              "((720000, 500), (720000,))"
            ]
          },
          "metadata": {
            "tags": []
          },
          "execution_count": 175
        }
      ]
    },
    {
      "cell_type": "code",
      "metadata": {
        "colab": {
          "base_uri": "https://localhost:8080/"
        },
        "id": "Ti3uCH3aQs3t",
        "outputId": "67909b52-9670-4a13-d593-80615293d2c5"
      },
      "source": [
        "X_test.shape, Y_test.shape"
      ],
      "execution_count": null,
      "outputs": [
        {
          "output_type": "execute_result",
          "data": {
            "text/plain": [
              "((180000, 500), (180000,))"
            ]
          },
          "metadata": {
            "tags": []
          },
          "execution_count": 176
        }
      ]
    },
    {
      "cell_type": "markdown",
      "metadata": {
        "id": "NdIwF1TeA1IU"
      },
      "source": [
        "# building LSTM model"
      ]
    },
    {
      "cell_type": "code",
      "metadata": {
        "id": "EpgS0dPoRkmv"
      },
      "source": [
        "def tensorflow_based_model():\n",
        "    inputs = Input(name='inputs',shape=[max_len])\n",
        "    layer = Embedding(2000,50,input_length=max_len)(inputs)\n",
        "    layer = LSTM(64)(layer)\n",
        "    layer = Dense(256,name='FC1')(layer)\n",
        "    layer = Activation('relu')(layer) \n",
        "    layer = Dropout(0.5)(layer) \n",
        "    layer = Dense(1,name='out_layer')(layer) \n",
        "    layer = Activation('sigmoid')(layer) \n",
        "    model = Model(inputs=inputs,outputs=layer) \n",
        "    return model\n",
        "\n"
      ],
      "execution_count": null,
      "outputs": []
    },
    {
      "cell_type": "code",
      "metadata": {
        "id": "xPYu_JA2Vshi"
      },
      "source": [
        "model1 = tensorflow_based_model() \n",
        "model1.compile(loss='binary_crossentropy',optimizer='adam',metrics=['accuracy'])  "
      ],
      "execution_count": null,
      "outputs": []
    },
    {
      "cell_type": "code",
      "metadata": {
        "colab": {
          "base_uri": "https://localhost:8080/"
        },
        "id": "tHx1xgcX5DfG",
        "outputId": "65651f1a-702b-4539-d568-1529d402fce9"
      },
      "source": [
        "print(model1.summary())"
      ],
      "execution_count": null,
      "outputs": [
        {
          "output_type": "stream",
          "text": [
            "Model: \"model_2\"\n",
            "_________________________________________________________________\n",
            "Layer (type)                 Output Shape              Param #   \n",
            "=================================================================\n",
            "inputs (InputLayer)          [(None, 500)]             0         \n",
            "_________________________________________________________________\n",
            "embedding_5 (Embedding)      (None, 500, 50)           100000    \n",
            "_________________________________________________________________\n",
            "lstm_3 (LSTM)                (None, 64)                29440     \n",
            "_________________________________________________________________\n",
            "FC1 (Dense)                  (None, 256)               16640     \n",
            "_________________________________________________________________\n",
            "activation_4 (Activation)    (None, 256)               0         \n",
            "_________________________________________________________________\n",
            "dropout_2 (Dropout)          (None, 256)               0         \n",
            "_________________________________________________________________\n",
            "out_layer (Dense)            (None, 1)                 257       \n",
            "_________________________________________________________________\n",
            "activation_5 (Activation)    (None, 1)                 0         \n",
            "=================================================================\n",
            "Total params: 146,337\n",
            "Trainable params: 146,337\n",
            "Non-trainable params: 0\n",
            "_________________________________________________________________\n",
            "None\n"
          ],
          "name": "stdout"
        }
      ]
    },
    {
      "cell_type": "code",
      "metadata": {
        "colab": {
          "base_uri": "https://localhost:8080/",
          "height": 635
        },
        "id": "wgDuzeMnDy6q",
        "outputId": "9d969870-5efd-4366-8958-27eadc6371d0"
      },
      "source": [
        "plot_model(model1, to_file='MODEL.png',show_shapes=True,show_layer_names=True,rankdir='TB',expand_nested=True, dpi= 70)"
      ],
      "execution_count": null,
      "outputs": [
        {
          "output_type": "execute_result",
          "data": {
            "image/png": "[encoded data removed]",
            "text/plain": [
              "<IPython.core.display.Image object>"
            ]
          },
          "metadata": {
            "tags": []
          },
          "execution_count": 180
        }
      ]
    },
    {
      "cell_type": "code",
      "metadata": {
        "colab": {
          "base_uri": "https://localhost:8080/"
        },
        "id": "OCqtuFjDWfZb",
        "outputId": "98246ae8-0a79-46df-c034-3bcb77dd1f9a"
      },
      "source": [
        "model1.fit(X_train,Y_train,batch_size=128,epochs=5, validation_split=0.1)\n",
        "print('Training finished !!')"
      ],
      "execution_count": null,
      "outputs": [
        {
          "output_type": "stream",
          "text": [
            "Epoch 1/5\n",
            "5063/5063 [==============================] - 166s 32ms/step - loss: 0.2686 - accuracy: 0.9019 - val_loss: 0.2624 - val_accuracy: 0.9021\n",
            "Epoch 2/5\n",
            "5063/5063 [==============================] - 160s 32ms/step - loss: 0.2567 - accuracy: 0.9052 - val_loss: 0.2604 - val_accuracy: 0.9034\n",
            "Epoch 3/5\n",
            "5063/5063 [==============================] - 160s 32ms/step - loss: 0.2527 - accuracy: 0.9067 - val_loss: 0.2597 - val_accuracy: 0.9033\n",
            "Epoch 4/5\n",
            "5063/5063 [==============================] - 160s 32ms/step - loss: 0.2493 - accuracy: 0.9074 - val_loss: 0.2598 - val_accuracy: 0.9037\n",
            "Epoch 5/5\n",
            "5063/5063 [==============================] - 159s 31ms/step - loss: 0.2457 - accuracy: 0.9089 - val_loss: 0.2589 - val_accuracy: 0.9043\n",
            "Training finished !!\n"
          ],
          "name": "stdout"
        }
      ]
    },
    {
      "cell_type": "code",
      "metadata": {
        "id": "udM5SeX40y89"
      },
      "source": [
        "history = model1.history.history"
      ],
      "execution_count": null,
      "outputs": []
    },
    {
      "cell_type": "code",
      "metadata": {
        "id": "QUtjXVMU1LW0",
        "colab": {
          "base_uri": "https://localhost:8080/"
        },
        "outputId": "f00a184d-4fe3-4f14-dbb1-6c98dffa8bfb"
      },
      "source": [
        "for key in history.keys():\n",
        "  print(key)\n"
      ],
      "execution_count": null,
      "outputs": [
        {
          "output_type": "stream",
          "text": [
            "loss\n",
            "accuracy\n",
            "val_loss\n",
            "val_accuracy\n"
          ],
          "name": "stdout"
        }
      ]
    },
    {
      "cell_type": "code",
      "metadata": {
        "id": "-lEK8tN42qPh"
      },
      "source": [
        "def plot_metrics(history):\n",
        "    \n",
        "    train_loss = history['loss']\n",
        "    val_loss = history['val_loss']\n",
        "    train_acc = history['accuracy']\n",
        "    val_acc = history['val_accuracy']\n",
        "    \n",
        "    # Loss\n",
        "    plt.figure()\n",
        "    plt.plot(train_loss, label='Training Loss')\n",
        "    plt.plot(val_loss, label='Validation Loss')\n",
        "    plt.title('Loss')\n",
        "    plt.legend()\n",
        "    plt.show()\n",
        "    \n",
        "    # Accuracy\n",
        "    plt.figure()\n",
        "    plt.plot(train_acc, label='Training Accuracy')\n",
        "    plt.plot(val_acc, label='Validation Accuracy')\n",
        "    plt.title('Accuracy')\n",
        "    plt.legend()\n",
        "    plt.show()"
      ],
      "execution_count": null,
      "outputs": []
    },
    {
      "cell_type": "code",
      "metadata": {
        "id": "bHa_dgaD21G-",
        "colab": {
          "base_uri": "https://localhost:8080/",
          "height": 547
        },
        "outputId": "7e10a663-797d-41ba-c49d-74439fa17aa8"
      },
      "source": [
        "plot_metrics(history)"
      ],
      "execution_count": null,
      "outputs": [
        {
          "output_type": "display_data",
          "data": {
            "image/png": "[encoded data removed]",
            "text/plain": [
              "<Figure size 432x288 with 1 Axes>"
            ]
          },
          "metadata": {
            "tags": [],
            "needs_background": "light"
          }
        },
        {
          "output_type": "display_data",
          "data": {
            "image/png": "[encoded data removed]",
            "text/plain": [
              "<Figure size 432x288 with 1 Axes>"
            ]
          },
          "metadata": {
            "tags": [],
            "needs_background": "light"
          }
        }
      ]
    },
    {
      "cell_type": "code",
      "metadata": {
        "id": "Q7VSranA7d0Q",
        "colab": {
          "base_uri": "https://localhost:8080/"
        },
        "outputId": "e042cc22-7cb2-4140-8fed-c737301fefdc"
      },
      "source": [
        "accr = model1.evaluate(X_test,Y_test) "
      ],
      "execution_count": null,
      "outputs": [
        {
          "output_type": "stream",
          "text": [
            "5625/5625 [==============================] - 50s 9ms/step - loss: 0.2547 - accuracy: 0.9058\n"
          ],
          "name": "stdout"
        }
      ]
    },
    {
      "cell_type": "code",
      "metadata": {
        "id": "QVkrPIBV7qpF",
        "colab": {
          "base_uri": "https://localhost:8080/"
        },
        "outputId": "d97b8b8b-426b-418a-b5f6-2a803a45100b"
      },
      "source": [
        "print('Test set\\n  Accuracy: {:0.2f}'.format(accr[1]))"
      ],
      "execution_count": null,
      "outputs": [
        {
          "output_type": "stream",
          "text": [
            "Test set\n",
            "  Accuracy: 0.91\n"
          ],
          "name": "stdout"
        }
      ]
    },
    {
      "cell_type": "code",
      "metadata": {
        "id": "Q_n9hhg_J5wl"
      },
      "source": [
        "y_pred = model1.predict(X_test) \n",
        "y_pred = (y_pred > 0.5) "
      ],
      "execution_count": null,
      "outputs": []
    },
    {
      "cell_type": "markdown",
      "metadata": {
        "id": "JugmoW3fBFLf"
      },
      "source": [
        " confusion matrix for LSTM"
      ]
    },
    {
      "cell_type": "code",
      "metadata": {
        "id": "bLP8JBRRw2jq",
        "colab": {
          "base_uri": "https://localhost:8080/",
          "height": 488
        },
        "outputId": "4ffebfcb-32ae-41cf-d504-9676e31fa078"
      },
      "source": [
        "cm = confusion_matrix(Y_test, y_pred)\n",
        "conf_matrix = pd.DataFrame(data = cm, \n",
        "                           columns = ['Predicted:0', 'Predicted:1'], \n",
        "                           index =['Actual:0', 'Actual:1'])\n",
        "plt.figure(figsize = (8, 5))\n",
        "sns.heatmap(conf_matrix, annot = True, fmt = 'd', cmap = \"Greens\")\n",
        "plt.show()\n",
        "  \n",
        "print('The details for confusion matrix is =')\n",
        "print (classification_report(Y_test, y_pred))"
      ],
      "execution_count": null,
      "outputs": [
        {
          "output_type": "display_data",
          "data": {
            "image/png": "[encoded data removed]",
            "text/plain": [
              "<Figure size 576x360 with 2 Axes>"
            ]
          },
          "metadata": {
            "tags": [],
            "needs_background": "light"
          }
        },
        {
          "output_type": "stream",
          "text": [
            "The details for confusion matrix is =\n",
            "              precision    recall  f1-score   support\n",
            "\n",
            "           0       0.70      0.26      0.38     19924\n",
            "           1       0.91      0.99      0.95    160076\n",
            "\n",
            "    accuracy                           0.91    180000\n",
            "   macro avg       0.81      0.62      0.66    180000\n",
            "weighted avg       0.89      0.91      0.89    180000\n",
            "\n"
          ],
          "name": "stdout"
        }
      ]
    },
    {
      "cell_type": "code",
      "metadata": {
        "id": "xmGU3RPWKByW",
        "colab": {
          "base_uri": "https://localhost:8080/",
          "height": 299
        },
        "outputId": "9d7eb5f3-620a-47d1-c759-2eb8c09c084f"
      },
      "source": [
        "fpr, tpr, thresholds = roc_curve(Y_test, y_pred)\n",
        "roc_auc = auc(fpr, tpr)\n",
        "plt.figure()\n",
        "plt.plot(fpr, tpr, color='darkorange', lw=1, label='ROC curve (area = %0.2f)' % roc_auc)\n",
        "plt.xlim([0.0, 1.0])\n",
        "plt.ylim([0.0, 1.05])\n",
        "plt.xlabel('False Positive Rate')\n",
        "plt.ylabel('True Positive Rate')\n",
        "plt.title('ROC CURVE')\n",
        "plt.legend(loc=\"lower right\")\n",
        "plt.show()"
      ],
      "execution_count": null,
      "outputs": [
        {
          "output_type": "display_data",
          "data": {
            "image/png": "[encoded data removed]",
            "text/plain": [
              "<Figure size 432x288 with 1 Axes>"
            ]
          },
          "metadata": {
            "tags": [],
            "needs_background": "light"
          }
        }
      ]
    },
    {
      "cell_type": "markdown",
      "metadata": {
        "id": "MAeauTKnBPIW"
      },
      "source": [
        "# building GRU model"
      ]
    },
    {
      "cell_type": "code",
      "metadata": {
        "id": "85B6Zpg7Cpmv"
      },
      "source": [
        "# required libraries for gru\n",
        "from keras.utils.vis_utils import plot_model\n",
        "from keras.layers import Dense, GRU, Flatten\n",
        "from keras.layers.embeddings import Embedding"
      ],
      "execution_count": null,
      "outputs": []
    },
    {
      "cell_type": "code",
      "metadata": {
        "id": "F82r2pS22YNd",
        "colab": {
          "base_uri": "https://localhost:8080/"
        },
        "outputId": "6e160ed1-8f00-4daf-f632-06b49bd063ac"
      },
      "source": [
        "max_words = 500\n",
        "X_train = sequence.pad_sequences(X_train, maxlen=max_words)\n",
        "X_test = sequence.pad_sequences(X_test, maxlen=max_words)\n",
        "\n",
        "model = Sequential()\n",
        "model.add(Embedding(2000,50,input_length=max_words))\n",
        "model.add(GRU(100))\n",
        "model.add(Dense(1, activation='tanh'))\n",
        "model.compile(loss='binary_crossentropy', optimizer='adam', metrics=['accuracy'])\n",
        "model.summary()"
      ],
      "execution_count": null,
      "outputs": [
        {
          "output_type": "stream",
          "text": [
            "Model: \"sequential_8\"\n",
            "_________________________________________________________________\n",
            "Layer (type)                 Output Shape              Param #   \n",
            "=================================================================\n",
            "embedding_7 (Embedding)      (None, 500, 50)           100000    \n",
            "_________________________________________________________________\n",
            "gru_5 (GRU)                  (None, 100)               45600     \n",
            "_________________________________________________________________\n",
            "dense_1 (Dense)              (None, 1)                 101       \n",
            "=================================================================\n",
            "Total params: 145,701\n",
            "Trainable params: 145,701\n",
            "Non-trainable params: 0\n",
            "_________________________________________________________________\n"
          ],
          "name": "stdout"
        }
      ]
    },
    {
      "cell_type": "code",
      "metadata": {
        "colab": {
          "base_uri": "https://localhost:8080/",
          "height": 313
        },
        "id": "AjJ087V99N9B",
        "outputId": "4713a460-2ca0-43da-e13b-53dd66e4f744"
      },
      "source": [
        "plot_model(model, to_file='MODEL.png',show_shapes=True,show_layer_names=True,rankdir='TB',expand_nested=True, dpi= 70)"
      ],
      "execution_count": null,
      "outputs": [
        {
          "output_type": "execute_result",
          "data": {
            "image/png": "[encoded data removed]",
            "text/plain": [
              "<IPython.core.display.Image object>"
            ]
          },
          "metadata": {
            "tags": []
          },
          "execution_count": 193
        }
      ]
    },
    {
      "cell_type": "code",
      "metadata": {
        "id": "cjOY-Vp-9Du_",
        "colab": {
          "base_uri": "https://localhost:8080/"
        },
        "outputId": "7a6634b8-5e41-4a44-e528-bd306158ad30"
      },
      "source": [
        "model.fit(X_train, Y_train, epochs=5, batch_size=128,validation_split=0.1) \n"
      ],
      "execution_count": null,
      "outputs": [
        {
          "output_type": "stream",
          "text": [
            "Epoch 1/5\n",
            "5063/5063 [==============================] - 195s 36ms/step - loss: 0.3380 - accuracy: 0.8784 - val_loss: 0.2643 - val_accuracy: 0.9023\n",
            "Epoch 2/5\n",
            "5063/5063 [==============================] - 183s 36ms/step - loss: 0.2596 - accuracy: 0.9036 - val_loss: 0.2687 - val_accuracy: 0.8970\n",
            "Epoch 3/5\n",
            "5063/5063 [==============================] - 181s 36ms/step - loss: 0.2538 - accuracy: 0.9059 - val_loss: 0.2616 - val_accuracy: 0.9031\n",
            "Epoch 4/5\n",
            "5063/5063 [==============================] - 179s 35ms/step - loss: 0.2498 - accuracy: 0.9070 - val_loss: 0.2642 - val_accuracy: 0.9031\n",
            "Epoch 5/5\n",
            "5063/5063 [==============================] - 181s 36ms/step - loss: 0.2466 - accuracy: 0.9086 - val_loss: 0.2632 - val_accuracy: 0.9027\n"
          ],
          "name": "stdout"
        },
        {
          "output_type": "execute_result",
          "data": {
            "text/plain": [
              "<keras.callbacks.History at 0x7f4facee29d0>"
            ]
          },
          "metadata": {
            "tags": []
          },
          "execution_count": 194
        }
      ]
    },
    {
      "cell_type": "code",
      "metadata": {
        "id": "IgR8VQHj7H0_"
      },
      "source": [
        "history=model.history.history"
      ],
      "execution_count": null,
      "outputs": []
    },
    {
      "cell_type": "code",
      "metadata": {
        "id": "4uifQX4s7H1A",
        "colab": {
          "base_uri": "https://localhost:8080/"
        },
        "outputId": "20cab02e-83b0-4e0d-8b1b-ad4fd39a1813"
      },
      "source": [
        "for key in history.keys():\n",
        "  print(key)\n"
      ],
      "execution_count": null,
      "outputs": [
        {
          "output_type": "stream",
          "text": [
            "loss\n",
            "accuracy\n",
            "val_loss\n",
            "val_accuracy\n"
          ],
          "name": "stdout"
        }
      ]
    },
    {
      "cell_type": "code",
      "metadata": {
        "id": "ekZyPHl27H1D"
      },
      "source": [
        "def plot_metrics(history):\n",
        "    \n",
        "    train_loss = history['loss']\n",
        "    val_loss = history['val_loss']\n",
        "    train_acc = history['accuracy']\n",
        "    val_acc = history['val_accuracy']\n",
        "    \n",
        "    # Loss\n",
        "    plt.figure()\n",
        "    plt.plot(train_loss, label='Training Loss')\n",
        "    plt.plot(val_loss, label='Validation Loss')\n",
        "    plt.title('Loss')\n",
        "    plt.legend()\n",
        "    plt.show()\n",
        "    \n",
        "    # Accuracy\n",
        "    plt.figure()\n",
        "    plt.plot(train_acc, label='Training Accuracy')\n",
        "    plt.plot(val_acc, label='Validation Accuracy')\n",
        "    plt.title('Accuracy')\n",
        "    plt.legend()\n",
        "    plt.show()"
      ],
      "execution_count": null,
      "outputs": []
    },
    {
      "cell_type": "code",
      "metadata": {
        "id": "z6e6Yvsp7H1E",
        "colab": {
          "base_uri": "https://localhost:8080/",
          "height": 547
        },
        "outputId": "1f557a75-114b-4f43-98b7-098081af8eb5"
      },
      "source": [
        "plot_metrics(history)"
      ],
      "execution_count": null,
      "outputs": [
        {
          "output_type": "display_data",
          "data": {
            "image/png": "[encoded data removed]",
            "text/plain": [
              "<Figure size 432x288 with 1 Axes>"
            ]
          },
          "metadata": {
            "tags": [],
            "needs_background": "light"
          }
        },
        {
          "output_type": "display_data",
          "data": {
            "image/png": "[encoded data removed]",
            "text/plain": [
              "<Figure size 432x288 with 1 Axes>"
            ]
          },
          "metadata": {
            "tags": [],
            "needs_background": "light"
          }
        }
      ]
    },
    {
      "cell_type": "code",
      "metadata": {
        "id": "ScBGJTp-7H1F",
        "colab": {
          "base_uri": "https://localhost:8080/"
        },
        "outputId": "dbbe3c3a-aecc-4d72-d5e6-e360baeb8d34"
      },
      "source": [
        "acc = model.evaluate(X_test,Y_test) "
      ],
      "execution_count": null,
      "outputs": [
        {
          "output_type": "stream",
          "text": [
            "5625/5625 [==============================] - 47s 8ms/step - loss: 0.2571 - accuracy: 0.9060\n"
          ],
          "name": "stdout"
        }
      ]
    },
    {
      "cell_type": "code",
      "metadata": {
        "id": "jzkQqbtc7H1G",
        "colab": {
          "base_uri": "https://localhost:8080/"
        },
        "outputId": "6e68f69a-905f-4b4e-9d60-8d7cf901ee89"
      },
      "source": [
        "print('Test set\\n  Accuracy: {:0.2f}'.format(accr[1]))"
      ],
      "execution_count": null,
      "outputs": [
        {
          "output_type": "stream",
          "text": [
            "Test set\n",
            "  Accuracy: 0.91\n"
          ],
          "name": "stdout"
        }
      ]
    },
    {
      "cell_type": "code",
      "metadata": {
        "id": "xjTSrDYQ7H1H"
      },
      "source": [
        "y_pred = model.predict(X_test)\n",
        "y_pred = (y_pred > 0.5) "
      ],
      "execution_count": null,
      "outputs": []
    },
    {
      "cell_type": "markdown",
      "metadata": {
        "id": "YOR8_boC7XtA"
      },
      "source": [
        "confusion_matrix"
      ]
    },
    {
      "cell_type": "code",
      "metadata": {
        "id": "uOu8LU4q7H1I",
        "colab": {
          "base_uri": "https://localhost:8080/",
          "height": 488
        },
        "outputId": "423b72ac-55e8-434b-be07-b6ead2daa0d0"
      },
      "source": [
        "cm = confusion_matrix(Y_test, y_pred)\n",
        "conf_matrix = pd.DataFrame(data = cm, \n",
        "                           columns = ['Predicted:0', 'Predicted:1'], \n",
        "                           index =['Actual:0', 'Actual:1'])\n",
        "plt.figure(figsize = (8, 5))\n",
        "sns.heatmap(conf_matrix, annot = True, fmt = 'd', cmap = \"Greens\")\n",
        "plt.show()\n",
        "  \n",
        "print('The details for confusion matrix is =')\n",
        "print (classification_report(Y_test, y_pred))"
      ],
      "execution_count": null,
      "outputs": [
        {
          "output_type": "display_data",
          "data": {
            "image/png": "[encoded data removed]",
            "text/plain": [
              "<Figure size 576x360 with 2 Axes>"
            ]
          },
          "metadata": {
            "tags": [],
            "needs_background": "light"
          }
        },
        {
          "output_type": "stream",
          "text": [
            "The details for confusion matrix is =\n",
            "              precision    recall  f1-score   support\n",
            "\n",
            "           0       0.68      0.29      0.41     19924\n",
            "           1       0.92      0.98      0.95    160076\n",
            "\n",
            "    accuracy                           0.91    180000\n",
            "   macro avg       0.80      0.64      0.68    180000\n",
            "weighted avg       0.89      0.91      0.89    180000\n",
            "\n"
          ],
          "name": "stdout"
        }
      ]
    },
    {
      "cell_type": "code",
      "metadata": {
        "id": "u5ZROcZ77H1K",
        "colab": {
          "base_uri": "https://localhost:8080/",
          "height": 299
        },
        "outputId": "f0f7fdc7-8c2d-4670-a71c-28abe28ee968"
      },
      "source": [
        "fpr, tpr, thresholds = roc_curve(Y_test, y_pred)\n",
        "roc_auc = auc(fpr, tpr)\n",
        "plt.figure()\n",
        "plt.plot(fpr, tpr, color='darkorange', lw=1, label='ROC curve (area = %0.2f)' % roc_auc)\n",
        "plt.xlim([0.0, 1.0])\n",
        "plt.ylim([0.0, 1.05])\n",
        "plt.xlabel('False Positive Rate')\n",
        "plt.ylabel('True Positive Rate')\n",
        "plt.title('ROC CURVE')\n",
        "plt.legend(loc=\"lower right\")\n",
        "plt.show()"
      ],
      "execution_count": null,
      "outputs": [
        {
          "output_type": "display_data",
          "data": {
            "image/png": "[encoded data removed]",
            "text/plain": [
              "<Figure size 432x288 with 1 Axes>"
            ]
          },
          "metadata": {
            "tags": [],
            "needs_background": "light"
          }
        }
      ]
    }
  ]
}